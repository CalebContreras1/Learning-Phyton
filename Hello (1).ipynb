{
 "cells": [
  {
   "cell_type": "markdown",
   "metadata": {},
   "source": [
    "# A students list #"
   ]
  },
  {
   "cell_type": "code",
   "execution_count": 2,
   "metadata": {},
   "outputs": [
    {
     "name": "stdout",
     "output_type": "stream",
     "text": [
      "How many names do you want to introduce3\n",
      "Introduce name: KEVIN\n",
      "Introduce name: PAKO\n",
      "Introduce name: NEGRO\n",
      "This is your list\n",
      "KEVIN\n",
      "PAKO\n",
      "NEGRO\n",
      "Which student do you want select? \n",
      "1\n",
      "PAKO\n"
     ]
    }
   ],
   "source": [
    "values = int(input(\"How many names do you want to introduce\")) # First introduce the quantity of numbers that you want to introduce\n",
    "names = [] #We are establishing a variable that are the names\n",
    "total = 0 #Thats the variable for the total values\n",
    "for i in range (0, values):\n",
    "    x = (input(\"Introduce name: \")) #We are writing that the names that we wrote is going to be the valor \"x\"\n",
    "    names.append(x)\n",
    "    total = x #In this part the programm is going to show all the names that we introduce\n",
    "print (\"This is your list\")\n",
    "\n",
    "for name in names:\n",
    "    print(name) #This line is to show all the names that we introduce before\n",
    "\n",
    "print(\"Which student do you want select? \")\n",
    "print(names[int(input())]) #We are asking to the person want to show on the screen, it have to choose by the number, startint with 0 until the last number of value"
   ]
  },
  {
   "cell_type": "code",
   "execution_count": null,
   "metadata": {},
   "outputs": [],
   "source": []
  },
  {
   "cell_type": "code",
   "execution_count": null,
   "metadata": {},
   "outputs": [],
   "source": []
  }
 ],
 "metadata": {
  "kernelspec": {
   "display_name": "Python 3",
   "language": "python",
   "name": "python3"
  },
  "language_info": {
   "codemirror_mode": {
    "name": "ipython",
    "version": 3
   },
   "file_extension": ".py",
   "mimetype": "text/x-python",
   "name": "python",
   "nbconvert_exporter": "python",
   "pygments_lexer": "ipython3",
   "version": "3.7.3"
  }
 },
 "nbformat": 4,
 "nbformat_minor": 2
}
