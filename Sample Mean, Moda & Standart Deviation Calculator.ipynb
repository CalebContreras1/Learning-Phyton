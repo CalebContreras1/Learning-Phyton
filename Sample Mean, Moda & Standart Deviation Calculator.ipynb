{
 "cells": [
  {
   "cell_type": "markdown",
   "metadata": {},
   "source": [
    "# Sample Mean, Moda & Standart Deviation Calculator"
   ]
  },
  {
   "cell_type": "code",
   "execution_count": 5,
   "metadata": {},
   "outputs": [
    {
     "name": "stdout",
     "output_type": "stream",
     "text": [
      "Type the data:\n",
      "Type 0 to finish.\n",
      "1\n",
      "Type the data:\n",
      "Type 0 to finish.\n",
      "2\n",
      "Type the data:\n",
      "Type 0 to finish.\n",
      "3\n",
      "Type the data:\n",
      "Type 0 to finish.\n",
      "5\n",
      "Type the data:\n",
      "Type 0 to finish.\n",
      "6\n",
      "Type the data:\n",
      "Type 0 to finish.\n",
      "2\n",
      "Type the data:\n",
      "Type 0 to finish.\n",
      "0\n",
      "Choose the operation you want to calculate: (1)Sample mean,    (2)Moda,    (3)Standart deviation\n",
      "2\n",
      "Your moda is [2]\n"
     ]
    }
   ],
   "source": [
    "data = 1\n",
    "cont = 0\n",
    "datastring = []\n",
    "sample_d = 0\n",
    "x1 = 0\n",
    "x2 = 0\n",
    "sum_data = 0\n",
    "\n",
    "while data > 0 :\n",
    "    print(\"Type the data:\")\n",
    "    print(\"Type 0 to finish.\")\n",
    "    data=int(input())\n",
    "    datastring.append(data)\n",
    "    cont = cont + 1\n",
    "    sum_data = sum_data + data \n",
    "       \n",
    "print(\"Choose the operation you want to calculate: (1)Sample mean,    (2)Moda,    (3)Standart deviation\")\n",
    "operation = int(input())\n",
    "sample_m = (sum_data)/(cont-1)\n",
    "        \n",
    "if operation == 1 :\n",
    "   \n",
    "    print(f\"Your sample mean is: {sample_m}\")\n",
    "if operation == 2 :\n",
    "    for i in datastring :\n",
    "        x1 = datastring.count(i)\n",
    "        if x1 > x2 :\n",
    "            x2 = x1\n",
    "moda = []\n",
    "for i in datastring :\n",
    "    x1 = datastring.count(i)\n",
    "    if x1 == x2 and i not in moda :\n",
    "        moda.append(i)\n",
    "        \n",
    "if len(moda)!=len(datastring) : \n",
    "    print(f\"Your moda is {moda}\")\n",
    "else : \n",
    "    print(\"No moda \")\n",
    "if operation == 3 :\n",
    "    \n",
    "    for i in range (0,cont-1): \n",
    "        si = (((datastring[i])-(sample_m)))/(cont-2)\n",
    "        sample_d=sample_d+si \n",
    "       \n",
    "    print(f\"Your standart deviation is:{sample_d}\")"
   ]
  },
  {
   "cell_type": "code",
   "execution_count": null,
   "metadata": {},
   "outputs": [],
   "source": []
  }
 ],
 "metadata": {
  "kernelspec": {
   "display_name": "Python 3",
   "language": "python",
   "name": "python3"
  },
  "language_info": {
   "codemirror_mode": {
    "name": "ipython",
    "version": 3
   },
   "file_extension": ".py",
   "mimetype": "text/x-python",
   "name": "python",
   "nbconvert_exporter": "python",
   "pygments_lexer": "ipython3",
   "version": "3.7.3"
  }
 },
 "nbformat": 4,
 "nbformat_minor": 2
}
