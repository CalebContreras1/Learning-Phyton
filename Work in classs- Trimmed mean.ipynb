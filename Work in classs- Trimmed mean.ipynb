{
 "cells": [
  {
   "cell_type": "markdown",
   "metadata": {},
   "source": [
    "# TRIMMED MEAN CODE #"
   ]
  },
  {
   "cell_type": "markdown",
   "metadata": {},
   "source": [
    "## Created by Kevin Cornejo :) - Caleb contreras ##"
   ]
  },
  {
   "cell_type": "code",
   "execution_count": 2,
   "metadata": {},
   "outputs": [
    {
     "name": "stdout",
     "output_type": "stream",
     "text": [
      "How many names do you want? 5\n",
      "Introduce a value: 5\n",
      "Introduce a value: 3\n",
      "Introduce a value: 5\n",
      "Introduce a value: 5\n",
      "Introduce a value: 5\n",
      "Treamed Mean %: 10\n",
      "[3.0, 5.0, 5.0, 5.0]\n",
      "[5.0, 5.0, 3.0]\n",
      "4.333333333333333\n"
     ]
    }
   ],
   "source": [
    "n = 0\n",
    "trimmed = []\n",
    "\n",
    "c = int(input(\"How many names do you want? \"))\n",
    "\n",
    "for i in range (0, c):\n",
    "    x = float(input(\"Introduce a value: \")) \n",
    "    n += 1\n",
    "    trimmed.append(x)\n",
    "\n",
    "\n",
    "perc = int(input(\"Treamed Mean %: \"))\n",
    "k = (n/perc)\n",
    "kt = (n//perc)\n",
    "counter = 0\n",
    "trimmed.pop(0)\n",
    "l = kt-1\n",
    "\n",
    "\n",
    "for i in range (0, kt):\n",
    "    counter = counter + 1\n",
    "    tmean.pop(contador)\n",
    "    \n",
    "print (trimmed)\n",
    "\n",
    "trimmed.sort(reverse=True)\n",
    "contador = 0\n",
    "trimmed.pop(0)\n",
    "\n",
    "for i in range (0, kt):\n",
    "    counter = counter + 1\n",
    "    trimmed.pop(counter)\n",
    "\n",
    "print(trimmed)\n",
    "\n",
    "sumatory = sum(trimmed)\n",
    "divisor = len(trimmed)\n",
    "\n",
    "print(sumatory/divisor)"
   ]
  },
  {
   "cell_type": "code",
   "execution_count": null,
   "metadata": {},
   "outputs": [],
   "source": []
  }
 ],
 "metadata": {
  "kernelspec": {
   "display_name": "Python 3",
   "language": "python",
   "name": "python3"
  },
  "language_info": {
   "codemirror_mode": {
    "name": "ipython",
    "version": 3
   },
   "file_extension": ".py",
   "mimetype": "text/x-python",
   "name": "python",
   "nbconvert_exporter": "python",
   "pygments_lexer": "ipython3",
   "version": "3.7.3"
  }
 },
 "nbformat": 4,
 "nbformat_minor": 2
}
