{
 "cells": [
  {
   "cell_type": "markdown",
   "metadata": {},
   "source": [
    "# Talking with a computer"
   ]
  },
  {
   "cell_type": "markdown",
   "metadata": {},
   "source": [
    "First, we code like an introduction for the conversation to make it more \"human\", and not start questioning the user."
   ]
  },
  {
   "cell_type": "code",
   "execution_count": 2,
   "metadata": {},
   "outputs": [
    {
     "name": "stdout",
     "output_type": "stream",
     "text": [
      "Hello there! What's your name?  Jack\n",
      "Hi, Jack\n"
     ]
    }
   ],
   "source": [
    "print(\"Hello there! What's your name? \", end = ' ') #This is just a simple question that is  not part of the exercise\n",
    "name = input()\n",
    "print(f\"Hi, {name}\")"
   ]
  },
  {
   "cell_type": "markdown",
   "metadata": {},
   "source": [
    "Then, it is going to be more complicated, but don't be afraid! It's easy when you memorize these variables. It is coded in order to get 1 input and 2 or more outputs, I mean, one question and the answer of the computer depends of what the user answer.\n",
    "For the answers with numbers you must type 'int' before the input, but for answers in text, you must type 'str' before the input, and all of this is repeating and repeating."
   ]
  },
  {
   "cell_type": "code",
   "execution_count": 12,
   "metadata": {},
   "outputs": [
    {
     "name": "stdout",
     "output_type": "stream",
     "text": [
      "Hello there! What's your name?  Jack\n",
      "Hi, Jack\n",
      "How old are you?15\n",
      "Wow! You're still a Padawan!\n",
      "What's your favorite meal pizza or hamburger?pizza\n",
      "That's my favorite, too!\n",
      "Would you like to study mechatronics or chemistery career?mechatronics\n",
      "Welcome to the hunger games then!\n",
      "If you would have to choose between these two teams: America or Cruz Azul, which one would you choose?Cruz Azul \n",
      "At what age would you like to get married?13\n",
      "Seriously?\n",
      "Do you prefer sing or dance?dance\n",
      "I'm sure you have good skills.\n",
      "Do you think you are good programmer? Please answer 'Yes' or 'No' Yes\n",
      "That sounds good, but there is always something to learn\n",
      "Are you understanding the code? Please answer 'Yes' or 'No' No\n",
      "Read again!\n",
      "Cats, Dogs or both?Cats\n",
      "They will kill you.\n",
      "Did you find useful this article? Please answer 'Yes' or 'No' No\n",
      "You broke my heart (I don't have one)\n"
     ]
    }
   ],
   "source": [
    "print(\"Hello there! What's your name? \", end = ' ') #This is just a simple question that is  not part of the exercise\n",
    "name = input()\n",
    "print(f\"Hi, {name}\")\n",
    "\n",
    "age = int(input(\"How old are you?\"))                               #Number output\n",
    "if age <= 18:\n",
    "    print(\"Wow! You're still a Padawan!\")\n",
    "if age > 19:\n",
    "        print(\"Hey dude, you are getting older\")\n",
    "\n",
    "\n",
    "food = str(input(\"What's your favorite meal pizza or hamburger?\")) #Text output\n",
    "a = \"pizza\"\n",
    "b = \"hamburger\"\n",
    "if food == a:                                                      #It's neccesary type double '=' in this case\n",
    "    print(\"That's my favorite, too!\")\n",
    "if food == b:\n",
    "    print(\"Oh, I prefer eat pizza...\")\n",
    "\n",
    "school = str(input(\"Would you like to study mechatronics or chemistery career?\")) #This is another way to code, but is too long\n",
    "c = \"mechatronics\" \n",
    "d = \"chemistery\"\n",
    "if school == c:\n",
    "    print(\"Welcome to the hunger games then!\")\n",
    "if school == d:\n",
    "    print(\"That's a good option.\")\n",
    "\n",
    "fteam = str(input(\"If you would have to choose between these two teams: America or Cruz Azul, which one would you choose?\"))\n",
    "if fteam == \"America\":\n",
    "    print(\"Nice, you are in my team.\")\n",
    "if fteam == \"Cruz Azul\":\n",
    "    print(\"That's a pitty.\")\n",
    "\n",
    "marriage = int(input(\"At what age would you like to get married?\"))\n",
    "if marriage <= 18:\n",
    "    print(\"Seriously?\")\n",
    "if marriage > 18 and marriage <= 25:\n",
    "    print(\"Wow! You will be so young.\")\n",
    "if marriage > 25:\n",
    "    print(\"Good luck!\")\n",
    "    \n",
    "act = str(input(\"Do you prefer sing or dance?\"))\n",
    "if act == \"sing\":\n",
    "    print(\"I want to hear you some day!\")\n",
    "if act == \"dance\":\n",
    "    print(\"I'm sure you have good skills.\")\n",
    "\n",
    "code = str(input(\"Do you think you are good programmer? Please answer 'Yes' or 'No' \"))\n",
    "if code == \"Yes\":\n",
    "    print(\"That sounds good, but there is always something to learn\")\n",
    "if code == \"No\":\n",
    "    print(\"Well, you have to practice.\")\n",
    "\n",
    "undrst = str(input(\"Are you understanding the code? Please answer 'Yes' or 'No' \"))\n",
    "if undrst == \"Yes\":\n",
    "    print(\"Nice.\")\n",
    "if undrst == \"No\":\n",
    "    print(\"Read again!\")\n",
    "    \n",
    "pet = str(input(\"Cats, Dogs or both?\"))\n",
    "if pet == \"Cats\":\n",
    "    print(\"They will kill you.\")\n",
    "if pet == \"Dogs\":\n",
    "    print(\"They are good friends\")\n",
    "if pet == \"both\":\n",
    "    print(\"Good luck!\")\n",
    "    \n",
    "uf = str(input(\"Did you find useful this article? Please answer 'Yes' or 'No' \"))\n",
    "if uf == \"Yes\":\n",
    "    print(\"Your welcome!\")\n",
    "if uf == \"No\":\n",
    "    print(\"You broke my heart (I don't have one).\") \n",
    "    \n"
   ]
  },
  {
   "cell_type": "markdown",
   "metadata": {},
   "source": [
    "Well, I hope this article had been useful for you, see you next time!"
   ]
  }
 ],
 "metadata": {
  "kernelspec": {
   "display_name": "Python 3",
   "language": "python",
   "name": "python3"
  },
  "language_info": {
   "codemirror_mode": {
    "name": "ipython",
    "version": 3
   },
   "file_extension": ".py",
   "mimetype": "text/x-python",
   "name": "python",
   "nbconvert_exporter": "python",
   "pygments_lexer": "ipython3",
   "version": "3.7.3"
  }
 },
 "nbformat": 4,
 "nbformat_minor": 2
}
