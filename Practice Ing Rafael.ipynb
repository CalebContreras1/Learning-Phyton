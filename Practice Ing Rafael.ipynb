{
 "cells": [
  {
   "cell_type": "markdown",
   "metadata": {},
   "source": [
    "# Practice: Questions & Sample mean #"
   ]
  },
  {
   "cell_type": "markdown",
   "metadata": {},
   "source": [
    "## Created by Kevin Cornejo & Caleb Contreras ##"
   ]
  },
  {
   "cell_type": "markdown",
   "metadata": {},
   "source": [
    "In this practice we had to interview 3 students and then get the sample mean of their ages"
   ]
  },
  {
   "cell_type": "code",
   "execution_count": 1,
   "metadata": {},
   "outputs": [
    {
     "name": "stdout",
     "output_type": "stream",
     "text": [
      "What is your name?Kevin\n",
      "And your?Caleb\n",
      "Your name isnt really necessary but tell me?Daniel\n",
      "Hi, ('Kevin', 'Caleb', 'Daniel')\n",
      "How old are you?19\n",
      "And yours?\n",
      "19\n",
      "You look like an old person, but tell me your age?\n",
      "20\n",
      "Do you want the sample mean of the ages of the childrens?\n",
      "Yes\n",
      "{19.333333333333332}\n",
      "There is the result, have a nice day!\n"
     ]
    }
   ],
   "source": [
    "print(\"What is your name?\", end = '')\n",
    "name1  = input()\n",
    "print(\"And your?\", end = '')\n",
    "name2 = input()\n",
    "print(\"Your name isnt really necessary but tell me?\", end = '')\n",
    "name3 = input()\n",
    "print (f\"Hi, {name1, name2, name3}\")\n",
    "age_1 = int(input(\"How old are you?\"))\n",
    "print(\"And yours?\")\n",
    "age_2 = int(input())\n",
    "print(\"You look like an old person, but tell me your age?\")\n",
    "age_3 = int(input())\n",
    "print(\"Do you want the sample mean of your ages?\")\n",
    "answer = input()\n",
    "print(({(age_1+age_2+age_3)/3}))\n",
    "print(\"There is the result, have a nice day!\")"
   ]
  },
  {
   "cell_type": "markdown",
   "metadata": {},
   "source": [
    "In the first part of the names we use the command \"print\" that is used for show some data on the screen, also we create a variables that is were the name of the students, for the variables it was used the command \" text = input, that its used to determine some variable.\n",
    "\n",
    "Now its time to get the ages of the students, first we have to create a variable for each student, by that way in the future will be more easy do something with that variables. Each variable was difference by the 1 <--Nunmber or the varibale# Also the commando was used again to show the questions on the screen.\n",
    "\n",
    "In the last part of the sample mean, we use the signs to make operation, the signs that we used was the +, /. To get the sample mean we had to used the variables in the ages that we previously create, we made an addition with this variables and then we divided by the quantities of the variables, that it was 3."
   ]
  },
  {
   "cell_type": "code",
   "execution_count": null,
   "metadata": {},
   "outputs": [],
   "source": []
  }
 ],
 "metadata": {
  "kernelspec": {
   "display_name": "Python 3",
   "language": "python",
   "name": "python3"
  },
  "language_info": {
   "codemirror_mode": {
    "name": "ipython",
    "version": 3
   },
   "file_extension": ".py",
   "mimetype": "text/x-python",
   "name": "python",
   "nbconvert_exporter": "python",
   "pygments_lexer": "ipython3",
   "version": "3.7.3"
  }
 },
 "nbformat": 4,
 "nbformat_minor": 2
}
